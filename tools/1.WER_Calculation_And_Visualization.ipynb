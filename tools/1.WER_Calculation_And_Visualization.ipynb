{
  "cells": [
    {
      "cell_type": "markdown",
      "metadata": {
        "colab_type": "text",
        "id": "view-in-github"
      },
      "source": [
        "<a href=\"https://colab.research.google.com/github/duckyngo/Word-Error-Rate-Visualization-with-Colab/blob/main/1.WER_Calculation_And_Visualization.ipynb\" target=\"_parent\"><img src=\"https://colab.research.google.com/assets/colab-badge.svg\" alt=\"Open In Colab\"/></a>"
      ]
    },
    {
      "cell_type": "markdown",
      "metadata": {},
      "source": [
        "FROM: https://github.com/duckyngo/Word-Error-Rate-Visualization-with-Colab"
      ]
    },
    {
      "cell_type": "code",
      "execution_count": 7,
      "metadata": {
        "cellView": "form",
        "colab": {
          "base_uri": "https://localhost:8080/",
          "height": 312
        },
        "id": "__Ywa-M-zkOi",
        "outputId": "bbedebe3-f3a7-4faa-a789-3fe5a9814d77"
      },
      "outputs": [
        {
          "data": {
            "text/html": [
              "\n",
              "  <style>\n",
              "    pre {\n",
              "        white-space: pre-wrap;\n",
              "    }\n",
              "  </style>\n",
              "  "
            ],
            "text/plain": [
              "<IPython.core.display.HTML object>"
            ]
          },
          "metadata": {},
          "output_type": "display_data"
        },
        {
          "data": {
            "text/html": [
              "\n",
              "  <style>\n",
              "    pre {\n",
              "        white-space: pre-wrap;\n",
              "    }\n",
              "  </style>\n",
              "  "
            ],
            "text/plain": [
              "<IPython.core.display.HTML object>"
            ]
          },
          "metadata": {},
          "output_type": "display_data"
        },
        {
          "data": {
            "text/html": [
              "\n",
              "  <style>\n",
              "    pre {\n",
              "        white-space: pre-wrap;\n",
              "    }\n",
              "  </style>\n",
              "  "
            ],
            "text/plain": [
              "<IPython.core.display.HTML object>"
            ]
          },
          "metadata": {},
          "output_type": "display_data"
        },
        {
          "data": {
            "text/html": [
              "\n",
              "  <style>\n",
              "    pre {\n",
              "        white-space: pre-wrap;\n",
              "    }\n",
              "  </style>\n",
              "  "
            ],
            "text/plain": [
              "<IPython.core.display.HTML object>"
            ]
          },
          "metadata": {},
          "output_type": "display_data"
        },
        {
          "data": {
            "text/html": [
              "\n",
              "  <style>\n",
              "    pre {\n",
              "        white-space: pre-wrap;\n",
              "    }\n",
              "  </style>\n",
              "  "
            ],
            "text/plain": [
              "<IPython.core.display.HTML object>"
            ]
          },
          "metadata": {},
          "output_type": "display_data"
        },
        {
          "data": {
            "text/html": [
              "\n",
              "  <style>\n",
              "    pre {\n",
              "        white-space: pre-wrap;\n",
              "    }\n",
              "  </style>\n",
              "  "
            ],
            "text/plain": [
              "<IPython.core.display.HTML object>"
            ]
          },
          "metadata": {},
          "output_type": "display_data"
        },
        {
          "name": "stdout",
          "output_type": "stream",
          "text": [
            "REF: dank u wel de heer visser christen unie dank u wel voorzitter wat betreft de oude stukken die opnieuw geheim verklaaren kunnen wij akkoord gaan omdat het college zegt daar doen we een deadline op zo snel mogelijk in het najaar gaan we er opnieuw over hebben wat betreft het pwcrapport is niet vanaf vandaag het openbaar met uitzondering van de weggelakte delen dus dat is ook mooi wat betreft dateterrein ben ik toch een beetje benieuwd naar de reactie van het college en ik heb inderdaad ook het gevoel dat we vanavond toch al op het zuid gaan komen dus waarom zouden we dat nu nog geheim verklaaren ik ben er niet van overtuigd wat daar het argument voor is dus ik zou daar eigenlijk een kort antwoord van het college op willen het is tot en met een ding niet akkoord al was het maar voor de symboolwerking maar bijlagen zeven bij de gedemd oudergeracht de uitgiftetekening ik heb net al gezegd ik vind het compleet een nonsens om zon tekening geheim te verklaren het college mag me wel eens uitleggen waarom dat geheim zou moeten zijn dank u wel de heer van de raad ja voorzitter wij gaan niet akkoord met stukken die binnen 24 uur zijn ingevoerd dat hebben we bij het seniorenconvental aangegeven dat we daar niet meer van gediend zijn voor de rest heeft u gevraagd om alles in een keer te behandelen u heeft ook gezegd alles komt terug dus u behandelt alles in een keer en het feit dat het terugkomt vinden wij dat niks geheim verklaard hoeft te worden dank u\n",
            "\n",
            "HYP: dank u wel de heer visser christen unie dank u wel voorzitter wat betreft de oude stukken die opnieuw geheim verklaren kunnen wij akkoord gaan omdat het college zegt daar doen we een deadline op zo snel mogelijk in het najaar gaan we het er opnieuw over hebben wat betreft het pwcrapport is in ieder geval vanaf vandaag openbaar met uitzondering van de weggelakte delen dus dat is ook mooi wat betreft dateterrein ben ik toch een beetje benieuwd naar de reactie van het college en ik heb inderdaad ook het gevoel er wordt vanavond gewoon een besluit genomen dus waarom zouden we dat nu nog geheim verklaren ik ben er niet van overtuigd wat daar het argument van is dus ik zou daar eigenlijk een kort antwoord van het college op willen en tenslotte ga ik met een ding niet akkoord al was het maar voor de symboolwerking maar bijlage zeven bij de gedemde ouderdrachte uitgiftetekening ik heb het net al gezegd ik vind het complete onzin om zon tekening geheim te verklaren het college mag me wel eens uitleggen waarom dat geheim zou moeten zijn dank u wel de heer van de raad ja voorzitter we gaan niet akkoord met stukken die binnen 24 uur zijn ingevoerd dat hebben we bij het seniorenconferent al aangegeven dat we daar niet meer van gediend zijn en voor de rest heeft u gevraaagd om alles in een keer te behandelen en u heeft ook gezegd alles komt terug dus ik behandel alles in een keer en het feit dat het terug komt vinden wij dat niks geheim verklaard hoeft te worden dank u\n",
            "------------------------------\n",
            "\u001b[38;2;0;0;0mdank \u001b[38;2;255;255;255m \u001b[38;2;0;0;0mu \u001b[38;2;255;255;255m \u001b[38;2;0;0;0mwel \u001b[38;2;255;255;255m \u001b[38;2;0;0;0mde \u001b[38;2;255;255;255m \u001b[38;2;0;0;0mheer \u001b[38;2;255;255;255m \u001b[38;2;0;0;0mvisser \u001b[38;2;255;255;255m \u001b[38;2;0;0;0mchristen \u001b[38;2;255;255;255m \u001b[38;2;0;0;0munie \u001b[38;2;255;255;255m \u001b[38;2;0;0;0mdank \u001b[38;2;255;255;255m \u001b[38;2;0;0;0mu \u001b[38;2;255;255;255m \u001b[38;2;0;0;0mwel \u001b[38;2;255;255;255m \u001b[38;2;0;0;0mvoorzitter \u001b[38;2;255;255;255m \u001b[38;2;0;0;0mwat \u001b[38;2;255;255;255m \u001b[38;2;0;0;0mbetreft \u001b[38;2;255;255;255m \u001b[38;2;0;0;0mde \u001b[38;2;255;255;255m \u001b[38;2;0;0;0moude \u001b[38;2;255;255;255m \u001b[38;2;0;0;0mstukken \u001b[38;2;255;255;255m \u001b[38;2;0;0;0mdie \u001b[38;2;255;255;255m \u001b[38;2;0;0;0mopnieuw \u001b[38;2;255;255;255m \u001b[38;2;0;0;0mgeheim \u001b[38;2;255;255;255m \u001b[38;2;0;255;0mverklaren \u001b[38;2;255;255;255m\u001b[38;2;0;0;0m(verklaaren) \u001b[38;2;255;255;255m \u001b[38;2;0;0;0mkunnen \u001b[38;2;255;255;255m \u001b[38;2;0;0;0mwij \u001b[38;2;255;255;255m \u001b[38;2;0;0;0makkoord \u001b[38;2;255;255;255m \u001b[38;2;0;0;0mgaan \u001b[38;2;255;255;255m \u001b[38;2;0;0;0momdat \u001b[38;2;255;255;255m \u001b[38;2;0;0;0mhet \u001b[38;2;255;255;255m \u001b[38;2;0;0;0mcollege \u001b[38;2;255;255;255m \u001b[38;2;0;0;0mzegt \u001b[38;2;255;255;255m \u001b[38;2;0;0;0mdaar \u001b[38;2;255;255;255m \u001b[38;2;0;0;0mdoen \u001b[38;2;255;255;255m \u001b[38;2;0;0;0mwe \u001b[38;2;255;255;255m \u001b[38;2;0;0;0meen \u001b[38;2;255;255;255m \u001b[38;2;0;0;0mdeadline \u001b[38;2;255;255;255m \u001b[38;2;0;0;0mop \u001b[38;2;255;255;255m \u001b[38;2;0;0;0mzo \u001b[38;2;255;255;255m \u001b[38;2;0;0;0msnel \u001b[38;2;255;255;255m \u001b[38;2;0;0;0mmogelijk \u001b[38;2;255;255;255m \u001b[38;2;0;0;0min \u001b[38;2;255;255;255m \u001b[38;2;0;0;0mhet \u001b[38;2;255;255;255m \u001b[38;2;0;0;0mnajaar \u001b[38;2;255;255;255m \u001b[38;2;0;0;0mgaan \u001b[38;2;255;255;255m \u001b[38;2;0;0;0mwe \u001b[38;2;255;255;255m \u001b[38;2;0;0;255mhet \u001b[38;2;255;255;255m \u001b[38;2;0;0;0mer \u001b[38;2;255;255;255m \u001b[38;2;0;0;0mopnieuw \u001b[38;2;255;255;255m \u001b[38;2;0;0;0mover \u001b[38;2;255;255;255m \u001b[38;2;0;0;0mhebben \u001b[38;2;255;255;255m \u001b[38;2;0;0;0mwat \u001b[38;2;255;255;255m \u001b[38;2;0;0;0mbetreft \u001b[38;2;255;255;255m \u001b[38;2;0;0;0mhet \u001b[38;2;255;255;255m \u001b[38;2;0;0;0mpwcrapport \u001b[38;2;255;255;255m \u001b[38;2;0;0;0mis \u001b[38;2;255;255;255m \u001b[38;2;0;0;255min \u001b[38;2;255;255;255m \u001b[38;2;0;0;255mieder \u001b[38;2;255;255;255m \u001b[38;2;0;255;0mgeval \u001b[38;2;255;255;255m\u001b[38;2;0;0;0m(niet) \u001b[38;2;255;255;255m \u001b[38;2;0;0;0mvanaf \u001b[38;2;255;255;255m \u001b[38;2;0;0;0mvandaag \u001b[38;2;255;255;255m \u001b[38;2;255;0;0mhet \u001b[38;2;255;255;255m \u001b[38;2;0;0;0mopenbaar \u001b[38;2;255;255;255m \u001b[38;2;0;0;0mmet \u001b[38;2;255;255;255m \u001b[38;2;0;0;0muitzondering \u001b[38;2;255;255;255m \u001b[38;2;0;0;0mvan \u001b[38;2;255;255;255m \u001b[38;2;0;0;0mde \u001b[38;2;255;255;255m \u001b[38;2;0;0;0mweggelakte \u001b[38;2;255;255;255m \u001b[38;2;0;0;0mdelen \u001b[38;2;255;255;255m \u001b[38;2;0;0;0mdus \u001b[38;2;255;255;255m \u001b[38;2;0;0;0mdat \u001b[38;2;255;255;255m \u001b[38;2;0;0;0mis \u001b[38;2;255;255;255m \u001b[38;2;0;0;0mook \u001b[38;2;255;255;255m \u001b[38;2;0;0;0mmooi \u001b[38;2;255;255;255m \u001b[38;2;0;0;0mwat \u001b[38;2;255;255;255m \u001b[38;2;0;0;0mbetreft \u001b[38;2;255;255;255m \u001b[38;2;0;0;0mdateterrein \u001b[38;2;255;255;255m \u001b[38;2;0;0;0mben \u001b[38;2;255;255;255m \u001b[38;2;0;0;0mik \u001b[38;2;255;255;255m \u001b[38;2;0;0;0mtoch \u001b[38;2;255;255;255m \u001b[38;2;0;0;0meen \u001b[38;2;255;255;255m \u001b[38;2;0;0;0mbeetje \u001b[38;2;255;255;255m \u001b[38;2;0;0;0mbenieuwd \u001b[38;2;255;255;255m \u001b[38;2;0;0;0mnaar \u001b[38;2;255;255;255m \u001b[38;2;0;0;0mde \u001b[38;2;255;255;255m \u001b[38;2;0;0;0mreactie \u001b[38;2;255;255;255m \u001b[38;2;0;0;0mvan \u001b[38;2;255;255;255m \u001b[38;2;0;0;0mhet \u001b[38;2;255;255;255m \u001b[38;2;0;0;0mcollege \u001b[38;2;255;255;255m \u001b[38;2;0;0;0men \u001b[38;2;255;255;255m \u001b[38;2;0;0;0mik \u001b[38;2;255;255;255m \u001b[38;2;0;0;0mheb \u001b[38;2;255;255;255m \u001b[38;2;0;0;0minderdaad \u001b[38;2;255;255;255m \u001b[38;2;0;0;0mook \u001b[38;2;255;255;255m \u001b[38;2;0;0;0mhet \u001b[38;2;255;255;255m \u001b[38;2;0;0;0mgevoel \u001b[38;2;255;255;255m \u001b[38;2;0;255;0mer \u001b[38;2;255;255;255m\u001b[38;2;0;0;0m(dat) \u001b[38;2;255;255;255m \u001b[38;2;0;255;0mwordt \u001b[38;2;255;255;255m\u001b[38;2;0;0;0m(we) \u001b[38;2;255;255;255m \u001b[38;2;0;0;0mvanavond \u001b[38;2;255;255;255m \u001b[38;2;255;0;0mtoch \u001b[38;2;255;255;255m \u001b[38;2;255;0;0mal \u001b[38;2;255;255;255m \u001b[38;2;255;0;0mop \u001b[38;2;255;255;255m \u001b[38;2;0;255;0mgewoon \u001b[38;2;255;255;255m\u001b[38;2;0;0;0m(het) \u001b[38;2;255;255;255m \u001b[38;2;0;255;0meen \u001b[38;2;255;255;255m\u001b[38;2;0;0;0m(zuid) \u001b[38;2;255;255;255m \u001b[38;2;0;255;0mbesluit \u001b[38;2;255;255;255m\u001b[38;2;0;0;0m(gaan) \u001b[38;2;255;255;255m \u001b[38;2;0;255;0mgenomen \u001b[38;2;255;255;255m\u001b[38;2;0;0;0m(komen) \u001b[38;2;255;255;255m \u001b[38;2;0;0;0mdus \u001b[38;2;255;255;255m \u001b[38;2;0;0;0mwaarom \u001b[38;2;255;255;255m \u001b[38;2;0;0;0mzouden \u001b[38;2;255;255;255m \u001b[38;2;0;0;0mwe \u001b[38;2;255;255;255m \u001b[38;2;0;0;0mdat \u001b[38;2;255;255;255m \u001b[38;2;0;0;0mnu \u001b[38;2;255;255;255m \u001b[38;2;0;0;0mnog \u001b[38;2;255;255;255m \u001b[38;2;0;0;0mgeheim \u001b[38;2;255;255;255m \u001b[38;2;0;255;0mverklaren \u001b[38;2;255;255;255m\u001b[38;2;0;0;0m(verklaaren) \u001b[38;2;255;255;255m \u001b[38;2;0;0;0mik \u001b[38;2;255;255;255m \u001b[38;2;0;0;0mben \u001b[38;2;255;255;255m \u001b[38;2;0;0;0mer \u001b[38;2;255;255;255m \u001b[38;2;0;0;0mniet \u001b[38;2;255;255;255m \u001b[38;2;0;0;0mvan \u001b[38;2;255;255;255m \u001b[38;2;0;0;0movertuigd \u001b[38;2;255;255;255m \u001b[38;2;0;0;0mwat \u001b[38;2;255;255;255m \u001b[38;2;0;0;0mdaar \u001b[38;2;255;255;255m \u001b[38;2;0;0;0mhet \u001b[38;2;255;255;255m \u001b[38;2;0;0;0margument \u001b[38;2;255;255;255m \u001b[38;2;0;255;0mvan \u001b[38;2;255;255;255m\u001b[38;2;0;0;0m(voor) \u001b[38;2;255;255;255m \u001b[38;2;0;0;0mis \u001b[38;2;255;255;255m \u001b[38;2;0;0;0mdus \u001b[38;2;255;255;255m \u001b[38;2;0;0;0mik \u001b[38;2;255;255;255m \u001b[38;2;0;0;0mzou \u001b[38;2;255;255;255m \u001b[38;2;0;0;0mdaar \u001b[38;2;255;255;255m \u001b[38;2;0;0;0meigenlijk \u001b[38;2;255;255;255m \u001b[38;2;0;0;0meen \u001b[38;2;255;255;255m \u001b[38;2;0;0;0mkort \u001b[38;2;255;255;255m \u001b[38;2;0;0;0mantwoord \u001b[38;2;255;255;255m \u001b[38;2;0;0;0mvan \u001b[38;2;255;255;255m \u001b[38;2;0;0;0mhet \u001b[38;2;255;255;255m \u001b[38;2;0;0;0mcollege \u001b[38;2;255;255;255m \u001b[38;2;0;0;0mop \u001b[38;2;255;255;255m \u001b[38;2;0;0;0mwillen \u001b[38;2;255;255;255m \u001b[38;2;0;255;0men \u001b[38;2;255;255;255m\u001b[38;2;0;0;0m(het) \u001b[38;2;255;255;255m \u001b[38;2;0;255;0mtenslotte \u001b[38;2;255;255;255m\u001b[38;2;0;0;0m(is) \u001b[38;2;255;255;255m \u001b[38;2;0;255;0mga \u001b[38;2;255;255;255m\u001b[38;2;0;0;0m(tot) \u001b[38;2;255;255;255m \u001b[38;2;0;255;0mik \u001b[38;2;255;255;255m\u001b[38;2;0;0;0m(en) \u001b[38;2;255;255;255m \u001b[38;2;0;0;0mmet \u001b[38;2;255;255;255m \u001b[38;2;0;0;0meen \u001b[38;2;255;255;255m \u001b[38;2;0;0;0mding \u001b[38;2;255;255;255m \u001b[38;2;0;0;0mniet \u001b[38;2;255;255;255m \u001b[38;2;0;0;0makkoord \u001b[38;2;255;255;255m \u001b[38;2;0;0;0mal \u001b[38;2;255;255;255m \u001b[38;2;0;0;0mwas \u001b[38;2;255;255;255m \u001b[38;2;0;0;0mhet \u001b[38;2;255;255;255m \u001b[38;2;0;0;0mmaar \u001b[38;2;255;255;255m \u001b[38;2;0;0;0mvoor \u001b[38;2;255;255;255m \u001b[38;2;0;0;0mde \u001b[38;2;255;255;255m \u001b[38;2;0;0;0msymboolwerking \u001b[38;2;255;255;255m \u001b[38;2;0;0;0mmaar \u001b[38;2;255;255;255m \u001b[38;2;0;255;0mbijlage \u001b[38;2;255;255;255m\u001b[38;2;0;0;0m(bijlagen) \u001b[38;2;255;255;255m \u001b[38;2;0;0;0mzeven \u001b[38;2;255;255;255m \u001b[38;2;0;0;0mbij \u001b[38;2;255;255;255m \u001b[38;2;0;0;0mde \u001b[38;2;255;255;255m \u001b[38;2;255;0;0mgedemd \u001b[38;2;255;255;255m \u001b[38;2;0;255;0mgedemde \u001b[38;2;255;255;255m\u001b[38;2;0;0;0m(oudergeracht) \u001b[38;2;255;255;255m \u001b[38;2;0;255;0mouderdrachte \u001b[38;2;255;255;255m\u001b[38;2;0;0;0m(de) \u001b[38;2;255;255;255m \u001b[38;2;0;0;0muitgiftetekening \u001b[38;2;255;255;255m \u001b[38;2;0;0;0mik \u001b[38;2;255;255;255m \u001b[38;2;0;0;0mheb \u001b[38;2;255;255;255m \u001b[38;2;0;0;255mhet \u001b[38;2;255;255;255m \u001b[38;2;0;0;0mnet \u001b[38;2;255;255;255m \u001b[38;2;0;0;0mal \u001b[38;2;255;255;255m \u001b[38;2;0;0;0mgezegd \u001b[38;2;255;255;255m \u001b[38;2;0;0;0mik \u001b[38;2;255;255;255m \u001b[38;2;0;0;0mvind \u001b[38;2;255;255;255m \u001b[38;2;0;0;0mhet \u001b[38;2;255;255;255m \u001b[38;2;255;0;0mcompleet \u001b[38;2;255;255;255m \u001b[38;2;0;255;0mcomplete \u001b[38;2;255;255;255m\u001b[38;2;0;0;0m(een) \u001b[38;2;255;255;255m \u001b[38;2;0;255;0monzin \u001b[38;2;255;255;255m\u001b[38;2;0;0;0m(nonsens) \u001b[38;2;255;255;255m \u001b[38;2;0;0;0mom \u001b[38;2;255;255;255m \u001b[38;2;0;0;0mzon \u001b[38;2;255;255;255m \u001b[38;2;0;0;0mtekening \u001b[38;2;255;255;255m \u001b[38;2;0;0;0mgeheim \u001b[38;2;255;255;255m \u001b[38;2;0;0;0mte \u001b[38;2;255;255;255m \u001b[38;2;0;0;0mverklaren \u001b[38;2;255;255;255m \u001b[38;2;0;0;0mhet \u001b[38;2;255;255;255m \u001b[38;2;0;0;0mcollege \u001b[38;2;255;255;255m \u001b[38;2;0;0;0mmag \u001b[38;2;255;255;255m \u001b[38;2;0;0;0mme \u001b[38;2;255;255;255m \u001b[38;2;0;0;0mwel \u001b[38;2;255;255;255m \u001b[38;2;0;0;0meens \u001b[38;2;255;255;255m \u001b[38;2;0;0;0muitleggen \u001b[38;2;255;255;255m \u001b[38;2;0;0;0mwaarom \u001b[38;2;255;255;255m \u001b[38;2;0;0;0mdat \u001b[38;2;255;255;255m \u001b[38;2;0;0;0mgeheim \u001b[38;2;255;255;255m \u001b[38;2;0;0;0mzou \u001b[38;2;255;255;255m \u001b[38;2;0;0;0mmoeten \u001b[38;2;255;255;255m \u001b[38;2;0;0;0mzijn \u001b[38;2;255;255;255m \u001b[38;2;0;0;0mdank \u001b[38;2;255;255;255m \u001b[38;2;0;0;0mu \u001b[38;2;255;255;255m \u001b[38;2;0;0;0mwel \u001b[38;2;255;255;255m \u001b[38;2;0;0;0mde \u001b[38;2;255;255;255m \u001b[38;2;0;0;0mheer \u001b[38;2;255;255;255m \u001b[38;2;0;0;0mvan \u001b[38;2;255;255;255m \u001b[38;2;0;0;0mde \u001b[38;2;255;255;255m \u001b[38;2;0;0;0mraad \u001b[38;2;255;255;255m \u001b[38;2;0;0;0mja \u001b[38;2;255;255;255m \u001b[38;2;0;0;0mvoorzitter \u001b[38;2;255;255;255m \u001b[38;2;0;255;0mwe \u001b[38;2;255;255;255m\u001b[38;2;0;0;0m(wij) \u001b[38;2;255;255;255m \u001b[38;2;0;0;0mgaan \u001b[38;2;255;255;255m \u001b[38;2;0;0;0mniet \u001b[38;2;255;255;255m \u001b[38;2;0;0;0makkoord \u001b[38;2;255;255;255m \u001b[38;2;0;0;0mmet \u001b[38;2;255;255;255m \u001b[38;2;0;0;0mstukken \u001b[38;2;255;255;255m \u001b[38;2;0;0;0mdie \u001b[38;2;255;255;255m \u001b[38;2;0;0;0mbinnen \u001b[38;2;255;255;255m \u001b[38;2;0;0;0m24 \u001b[38;2;255;255;255m \u001b[38;2;0;0;0muur \u001b[38;2;255;255;255m \u001b[38;2;0;0;0mzijn \u001b[38;2;255;255;255m \u001b[38;2;0;0;0mingevoerd \u001b[38;2;255;255;255m \u001b[38;2;0;0;0mdat \u001b[38;2;255;255;255m \u001b[38;2;0;0;0mhebben \u001b[38;2;255;255;255m \u001b[38;2;0;0;0mwe \u001b[38;2;255;255;255m \u001b[38;2;0;0;0mbij \u001b[38;2;255;255;255m \u001b[38;2;0;0;0mhet \u001b[38;2;255;255;255m \u001b[38;2;0;0;255mseniorenconferent \u001b[38;2;255;255;255m \u001b[38;2;0;255;0mal \u001b[38;2;255;255;255m\u001b[38;2;0;0;0m(seniorenconvental) \u001b[38;2;255;255;255m \u001b[38;2;0;0;0maangegeven \u001b[38;2;255;255;255m \u001b[38;2;0;0;0mdat \u001b[38;2;255;255;255m \u001b[38;2;0;0;0mwe \u001b[38;2;255;255;255m \u001b[38;2;0;0;0mdaar \u001b[38;2;255;255;255m \u001b[38;2;0;0;0mniet \u001b[38;2;255;255;255m \u001b[38;2;0;0;0mmeer \u001b[38;2;255;255;255m \u001b[38;2;0;0;0mvan \u001b[38;2;255;255;255m \u001b[38;2;0;0;0mgediend \u001b[38;2;255;255;255m \u001b[38;2;0;0;0mzijn \u001b[38;2;255;255;255m \u001b[38;2;0;0;255men \u001b[38;2;255;255;255m \u001b[38;2;0;0;0mvoor \u001b[38;2;255;255;255m \u001b[38;2;0;0;0mde \u001b[38;2;255;255;255m \u001b[38;2;0;0;0mrest \u001b[38;2;255;255;255m \u001b[38;2;0;0;0mheeft \u001b[38;2;255;255;255m \u001b[38;2;0;0;0mu \u001b[38;2;255;255;255m \u001b[38;2;0;255;0mgevraaagd \u001b[38;2;255;255;255m\u001b[38;2;0;0;0m(gevraagd) \u001b[38;2;255;255;255m \u001b[38;2;0;0;0mom \u001b[38;2;255;255;255m \u001b[38;2;0;0;0malles \u001b[38;2;255;255;255m \u001b[38;2;0;0;0min \u001b[38;2;255;255;255m \u001b[38;2;0;0;0meen \u001b[38;2;255;255;255m \u001b[38;2;0;0;0mkeer \u001b[38;2;255;255;255m \u001b[38;2;0;0;0mte \u001b[38;2;255;255;255m \u001b[38;2;0;0;0mbehandelen \u001b[38;2;255;255;255m \u001b[38;2;0;0;255men \u001b[38;2;255;255;255m \u001b[38;2;0;0;0mu \u001b[38;2;255;255;255m \u001b[38;2;0;0;0mheeft \u001b[38;2;255;255;255m \u001b[38;2;0;0;0mook \u001b[38;2;255;255;255m \u001b[38;2;0;0;0mgezegd \u001b[38;2;255;255;255m \u001b[38;2;0;0;0malles \u001b[38;2;255;255;255m \u001b[38;2;0;0;0mkomt \u001b[38;2;255;255;255m \u001b[38;2;0;0;0mterug \u001b[38;2;255;255;255m \u001b[38;2;0;0;0mdus \u001b[38;2;255;255;255m \u001b[38;2;0;255;0mik \u001b[38;2;255;255;255m\u001b[38;2;0;0;0m(u) \u001b[38;2;255;255;255m \u001b[38;2;0;255;0mbehandel \u001b[38;2;255;255;255m\u001b[38;2;0;0;0m(behandelt) \u001b[38;2;255;255;255m \u001b[38;2;0;0;0malles \u001b[38;2;255;255;255m \u001b[38;2;0;0;0min \u001b[38;2;255;255;255m \u001b[38;2;0;0;0meen \u001b[38;2;255;255;255m \u001b[38;2;0;0;0mkeer \u001b[38;2;255;255;255m \u001b[38;2;0;0;0men \u001b[38;2;255;255;255m \u001b[38;2;0;0;0mhet \u001b[38;2;255;255;255m \u001b[38;2;0;0;0mfeit \u001b[38;2;255;255;255m \u001b[38;2;0;0;0mdat \u001b[38;2;255;255;255m \u001b[38;2;0;0;0mhet \u001b[38;2;255;255;255m \u001b[38;2;0;0;255mterug \u001b[38;2;255;255;255m \u001b[38;2;0;255;0mkomt \u001b[38;2;255;255;255m\u001b[38;2;0;0;0m(terugkomt) \u001b[38;2;255;255;255m \u001b[38;2;0;0;0mvinden \u001b[38;2;255;255;255m \u001b[38;2;0;0;0mwij \u001b[38;2;255;255;255m \u001b[38;2;0;0;0mdat \u001b[38;2;255;255;255m \u001b[38;2;0;0;0mniks \u001b[38;2;255;255;255m \u001b[38;2;0;0;0mgeheim \u001b[38;2;255;255;255m \u001b[38;2;0;0;0mverklaard \u001b[38;2;255;255;255m \u001b[38;2;0;0;0mhoeft \u001b[38;2;255;255;255m \u001b[38;2;0;0;0mte \u001b[38;2;255;255;255m \u001b[38;2;0;0;0mworden \u001b[38;2;255;255;255m \u001b[38;2;0;0;0mdank \u001b[38;2;255;255;255m \u001b[38;2;0;0;0mu \u001b[38;2;255;255;255m \n",
            "\u001b[38;2;0;0;0mN CORRECT   : 239 \u001b[38;2;255;255;255m\n",
            "\u001b[38;2;255;0;0mN DELETE    : 6 \u001b[38;2;255;255;255m\n",
            "\u001b[38;2;0;255;0mN SUBSTITUTE: 25 \u001b[38;2;255;255;255m\n",
            "\u001b[38;2;0;0;255mN INSERT    : 8 \u001b[38;2;255;255;255m\n",
            "\u001b[38;2;0;0;0mWER: 0.144 \u001b[38;2;255;255;255m\n"
          ]
        }
      ],
      "source": [
        "import json\n",
        "from IPython.display import HTML, display\n",
        "\n",
        "try:\n",
        "    import jiwer\n",
        "except:\n",
        "    !pip install jiwer\n",
        "    import jiwer\n",
        "\n",
        "\n",
        "def set_css():\n",
        "    display(\n",
        "        HTML(\"\"\"\n",
        "  <style>\n",
        "    pre {\n",
        "        white-space: pre-wrap;\n",
        "    }\n",
        "  </style>\n",
        "  \"\"\")\n",
        "    )\n",
        "\n",
        "\n",
        "# Turn on line wrapping on Colab Ref: https://github.com/jupyter/notebook/issues/6274\n",
        "get_ipython().events.register(\"pre_run_cell\", set_css)\n",
        "\n",
        "\n",
        "def wer(ref, hyp, debug=False):\n",
        "    r = ref.split()\n",
        "    h = hyp.split()\n",
        "    # costs will holds the costs, like in the Levenshtein distance algorithm\n",
        "    costs = [[0 for inner in range(len(h) + 1)] for outer in range(len(r) + 1)]\n",
        "    # backtrace will hold the operations we've done.\n",
        "    # so we could later backtrace, like the WER algorithm requires us to.\n",
        "    backtrace = [[0 for inner in range(len(h) + 1)] for outer in range(len(r) + 1)]\n",
        "\n",
        "    OP_OK = 0\n",
        "    OP_SUB = 1\n",
        "    OP_INS = 2\n",
        "    OP_DEL = 3\n",
        "\n",
        "    DEL_PENALTY = 1  # Tact\n",
        "    INS_PENALTY = 1  # Tact\n",
        "    SUB_PENALTY = 1  # Tact\n",
        "    # First column represents the case where we achieve zero\n",
        "    # hypothesis words by deleting all reference words.\n",
        "    for i in range(1, len(r) + 1):\n",
        "        costs[i][0] = DEL_PENALTY * i\n",
        "        backtrace[i][0] = OP_DEL\n",
        "\n",
        "    # First row represents the case where we achieve the hypothesis\n",
        "    # by inserting all hypothesis words into a zero-length reference.\n",
        "    for j in range(1, len(h) + 1):\n",
        "        costs[0][j] = INS_PENALTY * j\n",
        "        backtrace[0][j] = OP_INS\n",
        "\n",
        "    # computation\n",
        "    for i in range(1, len(r) + 1):\n",
        "        for j in range(1, len(h) + 1):\n",
        "            if r[i - 1] == h[j - 1]:\n",
        "                costs[i][j] = costs[i - 1][j - 1]\n",
        "                backtrace[i][j] = OP_OK\n",
        "            else:\n",
        "                substitutionCost = (\n",
        "                    costs[i - 1][j - 1] + SUB_PENALTY\n",
        "                )  # penalty is always 1\n",
        "                insertionCost = costs[i][j - 1] + INS_PENALTY  # penalty is always 1\n",
        "                deletionCost = costs[i - 1][j] + DEL_PENALTY  # penalty is always 1\n",
        "\n",
        "                costs[i][j] = min(substitutionCost, insertionCost, deletionCost)\n",
        "                if costs[i][j] == substitutionCost:\n",
        "                    backtrace[i][j] = OP_SUB\n",
        "                elif costs[i][j] == insertionCost:\n",
        "                    backtrace[i][j] = OP_INS\n",
        "                else:\n",
        "                    backtrace[i][j] = OP_DEL\n",
        "\n",
        "    # back trace though the best route:\n",
        "    i = len(r)\n",
        "    j = len(h)\n",
        "    numSub = 0\n",
        "    numDel = 0\n",
        "    numIns = 0\n",
        "    numCor = 0\n",
        "    if debug:\n",
        "        lines = []\n",
        "        compares = []\n",
        "    while i > 0 or j > 0:\n",
        "        if backtrace[i][j] == OP_OK:\n",
        "            numCor += 1\n",
        "            i -= 1\n",
        "            j -= 1\n",
        "            if debug:\n",
        "                lines.append(\"OK\\t\" + r[i] + \"\\t\" + h[j])\n",
        "                compares.append(colored(0, 0, 0, h[j]))\n",
        "        elif backtrace[i][j] == OP_SUB:\n",
        "            numSub += 1\n",
        "            i -= 1\n",
        "            j -= 1\n",
        "            if debug:\n",
        "                lines.append(\"SUB\\t\" + r[i] + \"\\t\" + h[j])\n",
        "                compares.append(\n",
        "                    colored(0, 255, 0, h[j]) + colored(0, 0, 0, f\"({r[i]})\")\n",
        "                )\n",
        "        elif backtrace[i][j] == OP_INS:\n",
        "            numIns += 1\n",
        "            j -= 1\n",
        "            if debug:\n",
        "                lines.append(\"INS\\t\" + \"****\" + \"\\t\" + h[j])\n",
        "                compares.append(colored(0, 0, 255, h[j]))\n",
        "        elif backtrace[i][j] == OP_DEL:\n",
        "            numDel += 1\n",
        "            i -= 1\n",
        "            if debug:\n",
        "                lines.append(\"DEL\\t\" + r[i] + \"\\t\" + \"****\")\n",
        "                compares.append(colored(255, 0, 0, r[i]))\n",
        "    if debug:\n",
        "        # print(\"OP\\tREF\\tHYP\")\n",
        "        # lines = reversed(lines)\n",
        "        # for line in lines:\n",
        "        #     print(line)\n",
        "\n",
        "        compares = reversed(compares)\n",
        "        for line in compares:\n",
        "            print(line, end=\" \")\n",
        "        # print(\"Ncor \" + str(numCor))\n",
        "        # print(\"Nsub \" + str(numSub))\n",
        "        # print(\"Ndel \" + str(numDel))\n",
        "        # print(\"Nins \" + str(numIns))\n",
        "    wer_result = round((numSub + numDel + numIns) / (float)(len(r)), 3)\n",
        "    return {\n",
        "        \"WER\": wer_result,\n",
        "        \"Cor\": numCor,\n",
        "        \"Sub\": numSub,\n",
        "        \"Ins\": numIns,\n",
        "        \"Del\": numDel,\n",
        "    }, compares\n",
        "\n",
        "\n",
        "def colored(r, g, b, text):\n",
        "    return \"\\033[38;2;{};{};{}m{} \\033[38;2;255;255;255m\".format(r, g, b, text)\n",
        "\n",
        "\n",
        "def strike(text, color=None):\n",
        "    if color:\n",
        "        return colored(0, 255, 0, \"\".join([\"\\u0336{}\".format(c) for c in text]))\n",
        "\n",
        "    else:\n",
        "        return colored(0, 0, 0, \"\".join([\"\\u0332{}\".format(c) for c in text]))\n",
        "\n",
        "\n",
        "# @title Calculate and visualize WER { run: \"auto\" }\n",
        "\n",
        "remove_punctuation = True  # @param {type:\"boolean\"}\n",
        "input_ref = \"Dank u wel. De heer Visser, Christen Unie. Dank u wel, voorzitter. Wat betreft de oude stukken die opnieuw geheim verklaaren kunnen wij akkoord gaan omdat het college zegt daar doen we een deadline op. Zo snel mogelijk in het najaar gaan we er opnieuw over hebben. Wat betreft het PWC-rapport is niet vanaf vandaag het openbaar met uitzondering van de weggelakte delen. Dus dat is ook mooi. Wat betreft dateterrein ben ik toch een beetje benieuwd naar de reactie van het college. En ik heb inderdaad ook het gevoel dat we vanavond toch al op het zuid gaan komen. Dus waarom zouden we dat nu nog geheim verklaaren? Ik ben er niet van overtuigd wat daar het argument voor is. Dus ik zou daar eigenlijk een kort antwoord van het college op willen. Het is tot en met een ding niet akkoord. Al was het maar voor de symboolwerking. Maar bijlagen zeven bij de gedemd oudergeracht de uitgiftetekening. Ik heb net al gezegd ik vind het compleet een nonsens om zo'n tekening geheim te verklaren. Het college mag me wel eens uitleggen waarom dat geheim zou moeten zijn. Dank u wel. De heer van de Raad. Ja, voorzitter. Wij gaan niet akkoord met stukken die binnen 24 uur zijn ingevoerd. Dat hebben we bij het seniorenconvental aangegeven dat we daar niet meer van gediend zijn. Voor de rest heeft u gevraagd om alles in een keer te behandelen. U heeft ook gezegd alles komt terug. Dus u behandelt alles in een keer en het feit dat het terugkomt vinden wij dat niks geheim verklaard hoeft te worden. Dank u.\".lower()  # @param {type:\"string\"}\n",
        "input_hyp = \"Dank u wel. De heer visser, christen unie. Dank u wel voorzitter, wat betreft de oude stukken die opnieuw geheim verklaren kunnen wij akkoord gaan omdat het college zegt daar doen we een deadline op. zo snel mogelijk in het najaar gaan we het er opnieuw over hebben. wat betreft het pwcrapport is in ieder geval vanaf vandaag openbaar met uitzondering van de weggelakte delen. Dus dat is ook mooi. Wat betreft Dateterrein ben ik toch een beetje benieuwd naar de reactie van het college. En ik heb inderdaad ook het gevoel er wordt vanavond gewoon een besluit genomen, dus waarom zouden we dat nu nog geheim verklaren? Ik ben er niet van overtuigd wat daar het argument van is. Dus ik zou daar eigenlijk een kort antwoord van het college op willen. En tenslotte ga ik met een ding niet akkoord, al was het maar voor de symboolwerking. Maar bijlage zeven bij de gedemde ouderdrachte uitgiftetekening. Ik heb het net al gezegd, ik vind het complete onzin om zo'n tekening geheim te verklaren. Het college mag me wel eens uitleggen waarom dat geheim zou moeten zijn. Dank u wel. De heer van de raad. Ja voorzitter we gaan niet akkoord met stukken die binnen 24 uur zijn ingevoerd dat hebben we bij het seniorenconferent al aangegeven dat we daar niet meer van gediend zijn. En voor de rest heeft u gevraaagd om alles in een keer te behandelen en u heeft ook gezegd alles komt terug, dus ik behandel alles in een keer, en het feit dat het terug komt vinden wij dat niks geheim verklaard hoeft te worden dank u.\".lower()  # @param {type:\"string\"}\n",
        "input_json = \"\"  # @param {type:\"string\"}\n",
        "\n",
        "if input_json and input_json != \"\":\n",
        "    json_data = json.loads(input_json)\n",
        "    input_ref = json_data[\"text\"]\n",
        "    input_hyp = json_data[\"pred_text\"]\n",
        "\n",
        "\n",
        "if remove_punctuation == True:\n",
        "    ref = jiwer.RemovePunctuation()(input_ref)\n",
        "    hyp = jiwer.RemovePunctuation()(input_hyp)\n",
        "else:\n",
        "    ref = input_ref\n",
        "    hyp = input_hyp\n",
        "\n",
        "print(f\"REF: {ref}\\n\")\n",
        "print(f\"HYP: {hyp}\")\n",
        "print(\"-\" * 30)\n",
        "\n",
        "output, compares = wer(ref, hyp, debug=True)\n",
        "\n",
        "print()\n",
        "print(colored(0, 0, 0, f\"N CORRECT   : {output['Cor']}\"))\n",
        "print(colored(255, 0, 0, f\"N DELETE    : {output['Del']}\"))\n",
        "print(colored(0, 255, 0, f\"N SUBSTITUTE: {output['Sub']}\"))\n",
        "print(colored(0, 0, 255, f\"N INSERT    : {output['Ins']}\"))\n",
        "print(colored(0, 0, 0, f\"WER: {output['WER']}\"))"
      ]
    },
    {
      "cell_type": "code",
      "execution_count": null,
      "metadata": {
        "id": "yvg7ln1iC9K3"
      },
      "outputs": [],
      "source": []
    }
  ],
  "metadata": {
    "colab": {
      "collapsed_sections": [],
      "include_colab_link": true,
      "name": "WERCalculationAndVisualization.ipynb",
      "provenance": []
    },
    "kernelspec": {
      "display_name": "Python 3",
      "name": "python3"
    },
    "language_info": {
      "codemirror_mode": {
        "name": "ipython",
        "version": 3
      },
      "file_extension": ".py",
      "mimetype": "text/x-python",
      "name": "python",
      "nbconvert_exporter": "python",
      "pygments_lexer": "ipython3",
      "version": "3.11.8"
    }
  },
  "nbformat": 4,
  "nbformat_minor": 0
}
