{
 "cells": [
  {
   "cell_type": "code",
   "execution_count": 2,
   "metadata": {},
   "outputs": [
    {
     "name": "stdout",
     "output_type": "stream",
     "text": [
      "7836.797547169811\n",
      "4139.721805935548\n",
      "1007\n"
     ]
    }
   ],
   "source": [
    "import os\n",
    "import json\n",
    "\n",
    "import numpy as np\n",
    "\n",
    "path = \"/Users/personal/Desktop/scriptie/src/appDockerData\"\n",
    "\n",
    "times = []\n",
    "\n",
    "for gemeente in os.listdir(path):\n",
    "    if gemeente == \".DS_Store\":\n",
    "        continue\n",
    "    for meeting_type in os.listdir(f\"{path}/{gemeente}\"):\n",
    "        if meeting_type == \".DS_Store\":\n",
    "            continue\n",
    "        for year in os.listdir(f\"{path}/{gemeente}/{meeting_type}\"):\n",
    "            if year == \".DS_Store\":\n",
    "                continue\n",
    "            for file in os.listdir(\n",
    "                f\"{path}/{gemeente}/{meeting_type}/{year}/finalObjects\"\n",
    "            ):\n",
    "                if file == \".DS_Store\":\n",
    "                    continue\n",
    "                filepath = (\n",
    "                    f\"{path}/{gemeente}/{meeting_type}/{year}/finalObjects/{file}\"\n",
    "                )\n",
    "                with open(filepath, \"r\") as f:\n",
    "                    data = json.load(f)\n",
    "                    try:\n",
    "                        end_time = data[-1][\"object\"][\"end\"]\n",
    "                        times.append(end_time)\n",
    "                    except Exception as e:\n",
    "                        pass\n",
    "\n",
    "times_np = np.array(times)\n",
    "print(times_np.mean())\n",
    "print(times_np.std())\n",
    "print(len(times))"
   ]
  },
  {
   "cell_type": "code",
   "execution_count": 5,
   "metadata": {},
   "outputs": [
    {
     "name": "stdout",
     "output_type": "stream",
     "text": [
      "8.090199479618386\n",
      "8.921193922394643\n",
      "11.48768472906404\n",
      "8.601242667643893\n"
     ]
    }
   ],
   "source": [
    "import os\n",
    "import json\n",
    "\n",
    "import numpy as np\n",
    "\n",
    "path = \"/Users/personal/Desktop/scriptie/notebooks/data\"\n",
    "\n",
    "num_agendapoints = []\n",
    "\n",
    "# ibabs\n",
    "for gemeente in os.listdir(path):\n",
    "    if gemeente == \".DS_Store\":\n",
    "        continue\n",
    "    for year in os.listdir(f\"{path}/{gemeente}\"):\n",
    "        if year == \".DS_Store\":\n",
    "            continue\n",
    "        agenda_path = f\"{path}/{gemeente}/{year}/agendas\"\n",
    "        if not os.path.isdir(agenda_path):\n",
    "            continue\n",
    "        for video in os.listdir(agenda_path):\n",
    "            with open(f\"{agenda_path}/{video}\", \"r\") as f:\n",
    "                data = json.load(f)\n",
    "                try:\n",
    "                    num_agendapoints.append(len(data))\n",
    "                except Exception as e:\n",
    "                    pass\n",
    "\n",
    "# Andere provider\n",
    "for gemeente in os.listdir(path):\n",
    "    if gemeente == \".DS_Store\":\n",
    "        continue\n",
    "    for code in os.listdir(f\"{path}/{gemeente}\"):\n",
    "        if code == \".DS_Store\":\n",
    "            continue\n",
    "        if not os.path.isdir(f\"{path}/{gemeente}/{code}\"):\n",
    "            continue\n",
    "        for year in os.listdir(f\"{path}/{gemeente}/{code}\"):\n",
    "            if year == \".DS_Store\":\n",
    "                continue\n",
    "            agenda_path = f\"{path}/{gemeente}/{code}/{year}/agendas\"\n",
    "            if not os.path.isdir(agenda_path):\n",
    "                continue\n",
    "            for video in os.listdir(agenda_path):\n",
    "                with open(f\"{agenda_path}/{video}\", \"r\") as f:\n",
    "                    data = json.load(f)\n",
    "                    try:\n",
    "                        num_agendapoints.append(len(data))\n",
    "                    except Exception as e:\n",
    "                        pass\n",
    "\n",
    "num_agendapoints_np = np.array(num_agendapoints)\n",
    "print(num_agendapoints_np.mean())\n",
    "print(num_agendapoints_np.std())\n",
    "\n",
    "num_agendapoints_np_nozeros = np.array([n for n in num_agendapoints if n > 0])\n",
    "print(num_agendapoints_np_nozeros.mean())\n",
    "print(num_agendapoints_np_nozeros.std())"
   ]
  }
 ],
 "metadata": {
  "kernelspec": {
   "display_name": "base",
   "language": "python",
   "name": "python3"
  },
  "language_info": {
   "codemirror_mode": {
    "name": "ipython",
    "version": 3
   },
   "file_extension": ".py",
   "mimetype": "text/x-python",
   "name": "python",
   "nbconvert_exporter": "python",
   "pygments_lexer": "ipython3",
   "version": "3.11.8"
  }
 },
 "nbformat": 4,
 "nbformat_minor": 2
}
